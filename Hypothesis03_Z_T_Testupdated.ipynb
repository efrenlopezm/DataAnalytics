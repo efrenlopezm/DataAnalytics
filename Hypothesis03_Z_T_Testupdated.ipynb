{
 "cells": [
  {
   "cell_type": "code",
   "execution_count": 69,
   "id": "824c0df0",
   "metadata": {},
   "outputs": [],
   "source": [
    "import pandas as pd\n",
    "import seaborn as sns\n",
    "import matplotlib.pyplot as plt\n",
    "%matplotlib inline"
   ]
  },
  {
   "cell_type": "markdown",
   "id": "df3edaef",
   "metadata": {},
   "source": [
    "## Loading all the Data into Dataframes"
   ]
  },
  {
   "cell_type": "code",
   "execution_count": 89,
   "id": "0fb08403",
   "metadata": {},
   "outputs": [],
   "source": [
    "dfBoston=pd.read_csv('Boston.csv')\n",
    "dfPortland=pd.read_csv('Portland.csv')\n",
    "dfUtah=pd.read_csv('Utah.csv')\n",
    "dfNorthDakota=pd.read_csv('North Dakota.csv')\n",
    "dfKansas=pd.read_csv('Kansas.csv')\n",
    "dfColorado=pd.read_csv('ColordoMuniAirport.csv')\n",
    "dfCorpus=pd.read_csv('CCAIrport.csv')\n",
    "dfSeattle=pd.read_csv('SEAirport.csv')\n",
    "dfOklahoma=pd.read_csv('OklaAirport.csv')\n",
    "dfNewYork=pd.read_csv('NYAirport.csv')\n",
    "dfBoston['DATE']=pd.to_datetime(dfBoston['DATE'])\n",
    "dfPortland['DATE']=pd.to_datetime(dfPortland['DATE'])\n",
    "dfUtahc['DATE']=pd.to_datetime(dfUtahc['DATE'])\n",
    "dfNorthDakota['DATE']=pd.to_datetime(dfNorthDakota['DATE'])\n",
    "dfKansasc['DATE']=pd.to_datetime(dfKansasc['DATE'])\n",
    "dfColorado['DATE']=pd.to_datetime(dfColorado['DATE'])\n",
    "dfCorpus['DATE']=pd.to_datetime(dfCorpus['DATE'])\n",
    "dfSeattle['DATE']=pd.to_datetime(dfSeattle['DATE'])\n",
    "dfOklahoma['DATE']=pd.to_datetime(dfOklahoma['DATE'])\n",
    "dfNewYork['DATE']=pd.to_datetime(dfNewYork['DATE'])"
   ]
  },
  {
   "cell_type": "markdown",
   "id": "e1fdde38",
   "metadata": {},
   "source": [
    "## Cleaning the Data "
   ]
  },
  {
   "cell_type": "code",
   "execution_count": 33,
   "id": "9929b831",
   "metadata": {},
   "outputs": [
    {
     "data": {
      "text/plain": [
       "STATION      0\n",
       "NAME         0\n",
       "LATITUDE     0\n",
       "LONGITUDE    0\n",
       "ELEVATION    0\n",
       "DATE         0\n",
       "PRCP         0\n",
       "dtype: int64"
      ]
     },
     "execution_count": 33,
     "metadata": {},
     "output_type": "execute_result"
    }
   ],
   "source": [
    "dfBoston.isnull().sum()"
   ]
  },
  {
   "cell_type": "code",
   "execution_count": 34,
   "id": "e36ffa0d",
   "metadata": {},
   "outputs": [
    {
     "data": {
      "text/plain": [
       "STATION      0\n",
       "NAME         0\n",
       "LATITUDE     0\n",
       "LONGITUDE    0\n",
       "ELEVATION    0\n",
       "DATE         0\n",
       "PRCP         0\n",
       "dtype: int64"
      ]
     },
     "execution_count": 34,
     "metadata": {},
     "output_type": "execute_result"
    }
   ],
   "source": [
    "dfPortland.isnull().sum()"
   ]
  },
  {
   "cell_type": "code",
   "execution_count": 35,
   "id": "6b0cd6b5",
   "metadata": {},
   "outputs": [
    {
     "data": {
      "text/plain": [
       "STATION      0\n",
       "NAME         0\n",
       "LATITUDE     0\n",
       "LONGITUDE    0\n",
       "ELEVATION    0\n",
       "DATE         0\n",
       "PRCP         6\n",
       "dtype: int64"
      ]
     },
     "execution_count": 35,
     "metadata": {},
     "output_type": "execute_result"
    }
   ],
   "source": [
    "dfUtah.isnull().sum()"
   ]
  },
  {
   "cell_type": "code",
   "execution_count": 36,
   "id": "bf569488",
   "metadata": {},
   "outputs": [
    {
     "data": {
      "text/html": [
       "<div>\n",
       "<style scoped>\n",
       "    .dataframe tbody tr th:only-of-type {\n",
       "        vertical-align: middle;\n",
       "    }\n",
       "\n",
       "    .dataframe tbody tr th {\n",
       "        vertical-align: top;\n",
       "    }\n",
       "\n",
       "    .dataframe thead th {\n",
       "        text-align: right;\n",
       "    }\n",
       "</style>\n",
       "<table border=\"1\" class=\"dataframe\">\n",
       "  <thead>\n",
       "    <tr style=\"text-align: right;\">\n",
       "      <th></th>\n",
       "      <th>STATION</th>\n",
       "      <th>NAME</th>\n",
       "      <th>LATITUDE</th>\n",
       "      <th>LONGITUDE</th>\n",
       "      <th>ELEVATION</th>\n",
       "      <th>DATE</th>\n",
       "      <th>PRCP</th>\n",
       "    </tr>\n",
       "  </thead>\n",
       "  <tbody>\n",
       "    <tr>\n",
       "      <th>0</th>\n",
       "      <td>USC00425194</td>\n",
       "      <td>LOGAN 5 SW EXPERIMENTAL FARM, UT US</td>\n",
       "      <td>41.6661</td>\n",
       "      <td>-111.8913</td>\n",
       "      <td>1367.9</td>\n",
       "      <td>1985-01</td>\n",
       "      <td>0.30</td>\n",
       "    </tr>\n",
       "    <tr>\n",
       "      <th>1</th>\n",
       "      <td>USC00425194</td>\n",
       "      <td>LOGAN 5 SW EXPERIMENTAL FARM, UT US</td>\n",
       "      <td>41.6661</td>\n",
       "      <td>-111.8913</td>\n",
       "      <td>1367.9</td>\n",
       "      <td>1985-02</td>\n",
       "      <td>1.68</td>\n",
       "    </tr>\n",
       "    <tr>\n",
       "      <th>2</th>\n",
       "      <td>USC00425194</td>\n",
       "      <td>LOGAN 5 SW EXPERIMENTAL FARM, UT US</td>\n",
       "      <td>41.6661</td>\n",
       "      <td>-111.8913</td>\n",
       "      <td>1367.9</td>\n",
       "      <td>1985-03</td>\n",
       "      <td>1.82</td>\n",
       "    </tr>\n",
       "    <tr>\n",
       "      <th>3</th>\n",
       "      <td>USC00425194</td>\n",
       "      <td>LOGAN 5 SW EXPERIMENTAL FARM, UT US</td>\n",
       "      <td>41.6661</td>\n",
       "      <td>-111.8913</td>\n",
       "      <td>1367.9</td>\n",
       "      <td>1985-04</td>\n",
       "      <td>1.31</td>\n",
       "    </tr>\n",
       "    <tr>\n",
       "      <th>4</th>\n",
       "      <td>USC00425194</td>\n",
       "      <td>LOGAN 5 SW EXPERIMENTAL FARM, UT US</td>\n",
       "      <td>41.6661</td>\n",
       "      <td>-111.8913</td>\n",
       "      <td>1367.9</td>\n",
       "      <td>1985-05</td>\n",
       "      <td>1.76</td>\n",
       "    </tr>\n",
       "    <tr>\n",
       "      <th>...</th>\n",
       "      <td>...</td>\n",
       "      <td>...</td>\n",
       "      <td>...</td>\n",
       "      <td>...</td>\n",
       "      <td>...</td>\n",
       "      <td>...</td>\n",
       "      <td>...</td>\n",
       "    </tr>\n",
       "    <tr>\n",
       "      <th>433</th>\n",
       "      <td>USC00425194</td>\n",
       "      <td>LOGAN 5 SW EXPERIMENTAL FARM, UT US</td>\n",
       "      <td>41.6661</td>\n",
       "      <td>-111.8913</td>\n",
       "      <td>1367.9</td>\n",
       "      <td>2021-09</td>\n",
       "      <td>0.96</td>\n",
       "    </tr>\n",
       "    <tr>\n",
       "      <th>434</th>\n",
       "      <td>USC00425194</td>\n",
       "      <td>LOGAN 5 SW EXPERIMENTAL FARM, UT US</td>\n",
       "      <td>41.6661</td>\n",
       "      <td>-111.8913</td>\n",
       "      <td>1367.9</td>\n",
       "      <td>2021-10</td>\n",
       "      <td>3.90</td>\n",
       "    </tr>\n",
       "    <tr>\n",
       "      <th>435</th>\n",
       "      <td>USC00425194</td>\n",
       "      <td>LOGAN 5 SW EXPERIMENTAL FARM, UT US</td>\n",
       "      <td>41.6661</td>\n",
       "      <td>-111.8913</td>\n",
       "      <td>1367.9</td>\n",
       "      <td>2021-11</td>\n",
       "      <td>0.79</td>\n",
       "    </tr>\n",
       "    <tr>\n",
       "      <th>436</th>\n",
       "      <td>USC00425194</td>\n",
       "      <td>LOGAN 5 SW EXPERIMENTAL FARM, UT US</td>\n",
       "      <td>41.6661</td>\n",
       "      <td>-111.8913</td>\n",
       "      <td>1367.9</td>\n",
       "      <td>2021-12</td>\n",
       "      <td>2.74</td>\n",
       "    </tr>\n",
       "    <tr>\n",
       "      <th>437</th>\n",
       "      <td>USC00425194</td>\n",
       "      <td>LOGAN 5 SW EXPERIMENTAL FARM, UT US</td>\n",
       "      <td>41.6661</td>\n",
       "      <td>-111.8913</td>\n",
       "      <td>1367.9</td>\n",
       "      <td>2022-01</td>\n",
       "      <td>0.35</td>\n",
       "    </tr>\n",
       "  </tbody>\n",
       "</table>\n",
       "<p>438 rows × 7 columns</p>\n",
       "</div>"
      ],
      "text/plain": [
       "         STATION                                 NAME  LATITUDE  LONGITUDE  \\\n",
       "0    USC00425194  LOGAN 5 SW EXPERIMENTAL FARM, UT US   41.6661  -111.8913   \n",
       "1    USC00425194  LOGAN 5 SW EXPERIMENTAL FARM, UT US   41.6661  -111.8913   \n",
       "2    USC00425194  LOGAN 5 SW EXPERIMENTAL FARM, UT US   41.6661  -111.8913   \n",
       "3    USC00425194  LOGAN 5 SW EXPERIMENTAL FARM, UT US   41.6661  -111.8913   \n",
       "4    USC00425194  LOGAN 5 SW EXPERIMENTAL FARM, UT US   41.6661  -111.8913   \n",
       "..           ...                                  ...       ...        ...   \n",
       "433  USC00425194  LOGAN 5 SW EXPERIMENTAL FARM, UT US   41.6661  -111.8913   \n",
       "434  USC00425194  LOGAN 5 SW EXPERIMENTAL FARM, UT US   41.6661  -111.8913   \n",
       "435  USC00425194  LOGAN 5 SW EXPERIMENTAL FARM, UT US   41.6661  -111.8913   \n",
       "436  USC00425194  LOGAN 5 SW EXPERIMENTAL FARM, UT US   41.6661  -111.8913   \n",
       "437  USC00425194  LOGAN 5 SW EXPERIMENTAL FARM, UT US   41.6661  -111.8913   \n",
       "\n",
       "     ELEVATION     DATE  PRCP  \n",
       "0       1367.9  1985-01  0.30  \n",
       "1       1367.9  1985-02  1.68  \n",
       "2       1367.9  1985-03  1.82  \n",
       "3       1367.9  1985-04  1.31  \n",
       "4       1367.9  1985-05  1.76  \n",
       "..         ...      ...   ...  \n",
       "433     1367.9  2021-09  0.96  \n",
       "434     1367.9  2021-10  3.90  \n",
       "435     1367.9  2021-11  0.79  \n",
       "436     1367.9  2021-12  2.74  \n",
       "437     1367.9  2022-01  0.35  \n",
       "\n",
       "[438 rows x 7 columns]"
      ]
     },
     "execution_count": 36,
     "metadata": {},
     "output_type": "execute_result"
    }
   ],
   "source": [
    "dfUtahc = dfUtah.fillna(value=df['PRCP'].mean())\n",
    "dfUtahc"
   ]
  },
  {
   "cell_type": "code",
   "execution_count": 38,
   "id": "3f595607",
   "metadata": {},
   "outputs": [
    {
     "data": {
      "text/plain": [
       "STATION      0\n",
       "NAME         0\n",
       "LATITUDE     0\n",
       "LONGITUDE    0\n",
       "ELEVATION    0\n",
       "DATE         0\n",
       "PRCP         0\n",
       "dtype: int64"
      ]
     },
     "execution_count": 38,
     "metadata": {},
     "output_type": "execute_result"
    }
   ],
   "source": [
    "dfUtahc.isnull().sum()"
   ]
  },
  {
   "cell_type": "code",
   "execution_count": 40,
   "id": "ef1a66b0",
   "metadata": {},
   "outputs": [
    {
     "data": {
      "text/plain": [
       "STATION      0\n",
       "NAME         0\n",
       "LATITUDE     0\n",
       "LONGITUDE    0\n",
       "ELEVATION    0\n",
       "DATE         0\n",
       "PRCP         0\n",
       "dtype: int64"
      ]
     },
     "execution_count": 40,
     "metadata": {},
     "output_type": "execute_result"
    }
   ],
   "source": [
    "dfNorthDakota.isnull().sum()"
   ]
  },
  {
   "cell_type": "code",
   "execution_count": 41,
   "id": "70fa8a92",
   "metadata": {},
   "outputs": [
    {
     "data": {
      "text/plain": [
       "STATION      0\n",
       "NAME         0\n",
       "LATITUDE     0\n",
       "LONGITUDE    0\n",
       "ELEVATION    0\n",
       "DATE         0\n",
       "PRCP         4\n",
       "dtype: int64"
      ]
     },
     "execution_count": 41,
     "metadata": {},
     "output_type": "execute_result"
    }
   ],
   "source": [
    "dfKansas.isnull().sum()"
   ]
  },
  {
   "cell_type": "code",
   "execution_count": 42,
   "id": "2f6503fb",
   "metadata": {},
   "outputs": [
    {
     "data": {
      "text/html": [
       "<div>\n",
       "<style scoped>\n",
       "    .dataframe tbody tr th:only-of-type {\n",
       "        vertical-align: middle;\n",
       "    }\n",
       "\n",
       "    .dataframe tbody tr th {\n",
       "        vertical-align: top;\n",
       "    }\n",
       "\n",
       "    .dataframe thead th {\n",
       "        text-align: right;\n",
       "    }\n",
       "</style>\n",
       "<table border=\"1\" class=\"dataframe\">\n",
       "  <thead>\n",
       "    <tr style=\"text-align: right;\">\n",
       "      <th></th>\n",
       "      <th>STATION</th>\n",
       "      <th>NAME</th>\n",
       "      <th>LATITUDE</th>\n",
       "      <th>LONGITUDE</th>\n",
       "      <th>ELEVATION</th>\n",
       "      <th>DATE</th>\n",
       "      <th>PRCP</th>\n",
       "    </tr>\n",
       "  </thead>\n",
       "  <tbody>\n",
       "    <tr>\n",
       "      <th>0</th>\n",
       "      <td>USC00143527</td>\n",
       "      <td>HAYS 1 S, KS US</td>\n",
       "      <td>38.8586</td>\n",
       "      <td>-99.3358</td>\n",
       "      <td>612.6</td>\n",
       "      <td>1985-01</td>\n",
       "      <td>0.90</td>\n",
       "    </tr>\n",
       "    <tr>\n",
       "      <th>1</th>\n",
       "      <td>USC00143527</td>\n",
       "      <td>HAYS 1 S, KS US</td>\n",
       "      <td>38.8586</td>\n",
       "      <td>-99.3358</td>\n",
       "      <td>612.6</td>\n",
       "      <td>1985-02</td>\n",
       "      <td>0.32</td>\n",
       "    </tr>\n",
       "    <tr>\n",
       "      <th>2</th>\n",
       "      <td>USC00143527</td>\n",
       "      <td>HAYS 1 S, KS US</td>\n",
       "      <td>38.8586</td>\n",
       "      <td>-99.3358</td>\n",
       "      <td>612.6</td>\n",
       "      <td>1985-03</td>\n",
       "      <td>0.74</td>\n",
       "    </tr>\n",
       "    <tr>\n",
       "      <th>3</th>\n",
       "      <td>USC00143527</td>\n",
       "      <td>HAYS 1 S, KS US</td>\n",
       "      <td>38.8586</td>\n",
       "      <td>-99.3358</td>\n",
       "      <td>612.6</td>\n",
       "      <td>1985-04</td>\n",
       "      <td>2.95</td>\n",
       "    </tr>\n",
       "    <tr>\n",
       "      <th>4</th>\n",
       "      <td>USC00143527</td>\n",
       "      <td>HAYS 1 S, KS US</td>\n",
       "      <td>38.8586</td>\n",
       "      <td>-99.3358</td>\n",
       "      <td>612.6</td>\n",
       "      <td>1985-05</td>\n",
       "      <td>3.67</td>\n",
       "    </tr>\n",
       "    <tr>\n",
       "      <th>...</th>\n",
       "      <td>...</td>\n",
       "      <td>...</td>\n",
       "      <td>...</td>\n",
       "      <td>...</td>\n",
       "      <td>...</td>\n",
       "      <td>...</td>\n",
       "      <td>...</td>\n",
       "    </tr>\n",
       "    <tr>\n",
       "      <th>440</th>\n",
       "      <td>USC00143527</td>\n",
       "      <td>HAYS 1 S, KS US</td>\n",
       "      <td>38.8586</td>\n",
       "      <td>-99.3358</td>\n",
       "      <td>612.6</td>\n",
       "      <td>2021-09</td>\n",
       "      <td>2.35</td>\n",
       "    </tr>\n",
       "    <tr>\n",
       "      <th>441</th>\n",
       "      <td>USC00143527</td>\n",
       "      <td>HAYS 1 S, KS US</td>\n",
       "      <td>38.8586</td>\n",
       "      <td>-99.3358</td>\n",
       "      <td>612.6</td>\n",
       "      <td>2021-10</td>\n",
       "      <td>1.31</td>\n",
       "    </tr>\n",
       "    <tr>\n",
       "      <th>442</th>\n",
       "      <td>USC00143527</td>\n",
       "      <td>HAYS 1 S, KS US</td>\n",
       "      <td>38.8586</td>\n",
       "      <td>-99.3358</td>\n",
       "      <td>612.6</td>\n",
       "      <td>2021-11</td>\n",
       "      <td>0.20</td>\n",
       "    </tr>\n",
       "    <tr>\n",
       "      <th>443</th>\n",
       "      <td>USC00143527</td>\n",
       "      <td>HAYS 1 S, KS US</td>\n",
       "      <td>38.8586</td>\n",
       "      <td>-99.3358</td>\n",
       "      <td>612.6</td>\n",
       "      <td>2021-12</td>\n",
       "      <td>0.00</td>\n",
       "    </tr>\n",
       "    <tr>\n",
       "      <th>444</th>\n",
       "      <td>USC00143527</td>\n",
       "      <td>HAYS 1 S, KS US</td>\n",
       "      <td>38.8586</td>\n",
       "      <td>-99.3358</td>\n",
       "      <td>612.6</td>\n",
       "      <td>2022-01</td>\n",
       "      <td>0.52</td>\n",
       "    </tr>\n",
       "  </tbody>\n",
       "</table>\n",
       "<p>445 rows × 7 columns</p>\n",
       "</div>"
      ],
      "text/plain": [
       "         STATION             NAME  LATITUDE  LONGITUDE  ELEVATION     DATE  \\\n",
       "0    USC00143527  HAYS 1 S, KS US   38.8586   -99.3358      612.6  1985-01   \n",
       "1    USC00143527  HAYS 1 S, KS US   38.8586   -99.3358      612.6  1985-02   \n",
       "2    USC00143527  HAYS 1 S, KS US   38.8586   -99.3358      612.6  1985-03   \n",
       "3    USC00143527  HAYS 1 S, KS US   38.8586   -99.3358      612.6  1985-04   \n",
       "4    USC00143527  HAYS 1 S, KS US   38.8586   -99.3358      612.6  1985-05   \n",
       "..           ...              ...       ...        ...        ...      ...   \n",
       "440  USC00143527  HAYS 1 S, KS US   38.8586   -99.3358      612.6  2021-09   \n",
       "441  USC00143527  HAYS 1 S, KS US   38.8586   -99.3358      612.6  2021-10   \n",
       "442  USC00143527  HAYS 1 S, KS US   38.8586   -99.3358      612.6  2021-11   \n",
       "443  USC00143527  HAYS 1 S, KS US   38.8586   -99.3358      612.6  2021-12   \n",
       "444  USC00143527  HAYS 1 S, KS US   38.8586   -99.3358      612.6  2022-01   \n",
       "\n",
       "     PRCP  \n",
       "0    0.90  \n",
       "1    0.32  \n",
       "2    0.74  \n",
       "3    2.95  \n",
       "4    3.67  \n",
       "..    ...  \n",
       "440  2.35  \n",
       "441  1.31  \n",
       "442  0.20  \n",
       "443  0.00  \n",
       "444  0.52  \n",
       "\n",
       "[445 rows x 7 columns]"
      ]
     },
     "execution_count": 42,
     "metadata": {},
     "output_type": "execute_result"
    }
   ],
   "source": [
    "dfKansasc = dfKansas.fillna(value=df['PRCP'].mean())\n",
    "dfKansasc"
   ]
  },
  {
   "cell_type": "code",
   "execution_count": 43,
   "id": "66742f52",
   "metadata": {},
   "outputs": [
    {
     "data": {
      "text/plain": [
       "STATION      0\n",
       "NAME         0\n",
       "LATITUDE     0\n",
       "LONGITUDE    0\n",
       "ELEVATION    0\n",
       "DATE         0\n",
       "PRCP         0\n",
       "dtype: int64"
      ]
     },
     "execution_count": 43,
     "metadata": {},
     "output_type": "execute_result"
    }
   ],
   "source": [
    "dfKansasc.isnull().sum()"
   ]
  },
  {
   "cell_type": "code",
   "execution_count": 111,
   "id": "ee9ee8b1",
   "metadata": {},
   "outputs": [],
   "source": [
    "df=pd.read_csv('InlandL_data.csv')"
   ]
  },
  {
   "cell_type": "code",
   "execution_count": 112,
   "id": "aec55c16",
   "metadata": {},
   "outputs": [
    {
     "data": {
      "text/plain": [
       "<bound method DataFrame.info of           STATION                                            NAME  LATITUDE  \\\n",
       "0     USC00143527                                 HAYS 1 S, KS US   38.8586   \n",
       "1     USC00143527                                 HAYS 1 S, KS US   38.8586   \n",
       "2     USC00143527                                 HAYS 1 S, KS US   38.8586   \n",
       "3     USC00143527                                 HAYS 1 S, KS US   38.8586   \n",
       "4     USC00143527                                 HAYS 1 S, KS US   38.8586   \n",
       "...           ...                                             ...       ...   \n",
       "2192  USW00013967  OKLAHOMA CITY WILL ROGERS WORLD AIRPORT, OK US   35.3931   \n",
       "2193  USW00013967  OKLAHOMA CITY WILL ROGERS WORLD AIRPORT, OK US   35.3931   \n",
       "2194  USW00013967  OKLAHOMA CITY WILL ROGERS WORLD AIRPORT, OK US   35.3931   \n",
       "2195  USW00013967  OKLAHOMA CITY WILL ROGERS WORLD AIRPORT, OK US   35.3931   \n",
       "2196  USW00013967  OKLAHOMA CITY WILL ROGERS WORLD AIRPORT, OK US   35.3931   \n",
       "\n",
       "      LONGITUDE  ELEVATION     DATE  PRCP  \n",
       "0      -99.3358      612.6  1985-01  0.90  \n",
       "1      -99.3358      612.6  1985-02  0.32  \n",
       "2      -99.3358      612.6  1985-03  0.74  \n",
       "3      -99.3358      612.6  1985-04  2.95  \n",
       "4      -99.3358      612.6  1985-05  3.67  \n",
       "...         ...        ...      ...   ...  \n",
       "2192   -97.6006     1295.0  2022-03  1.97  \n",
       "2193   -97.6006     1295.0  2022-04  1.59  \n",
       "2194   -97.6006     1295.0  2022-05  7.35  \n",
       "2195   -97.6006     1295.0  2022-06  3.31  \n",
       "2196   -97.6006     1295.0  2022-07  0.42  \n",
       "\n",
       "[2197 rows x 7 columns]>"
      ]
     },
     "execution_count": 112,
     "metadata": {},
     "output_type": "execute_result"
    }
   ],
   "source": [
    "df.info"
   ]
  },
  {
   "cell_type": "code",
   "execution_count": 113,
   "id": "70f839bc",
   "metadata": {},
   "outputs": [
    {
     "data": {
      "text/html": [
       "<div>\n",
       "<style scoped>\n",
       "    .dataframe tbody tr th:only-of-type {\n",
       "        vertical-align: middle;\n",
       "    }\n",
       "\n",
       "    .dataframe tbody tr th {\n",
       "        vertical-align: top;\n",
       "    }\n",
       "\n",
       "    .dataframe thead th {\n",
       "        text-align: right;\n",
       "    }\n",
       "</style>\n",
       "<table border=\"1\" class=\"dataframe\">\n",
       "  <thead>\n",
       "    <tr style=\"text-align: right;\">\n",
       "      <th></th>\n",
       "      <th>STATION</th>\n",
       "      <th>NAME</th>\n",
       "      <th>LATITUDE</th>\n",
       "      <th>LONGITUDE</th>\n",
       "      <th>ELEVATION</th>\n",
       "      <th>DATE</th>\n",
       "      <th>PRCP</th>\n",
       "    </tr>\n",
       "  </thead>\n",
       "  <tbody>\n",
       "    <tr>\n",
       "      <th>0</th>\n",
       "      <td>USC00143527</td>\n",
       "      <td>HAYS 1 S, KS US</td>\n",
       "      <td>38.8586</td>\n",
       "      <td>-99.3358</td>\n",
       "      <td>612.6</td>\n",
       "      <td>1985-01</td>\n",
       "      <td>0.90</td>\n",
       "    </tr>\n",
       "    <tr>\n",
       "      <th>1</th>\n",
       "      <td>USC00143527</td>\n",
       "      <td>HAYS 1 S, KS US</td>\n",
       "      <td>38.8586</td>\n",
       "      <td>-99.3358</td>\n",
       "      <td>612.6</td>\n",
       "      <td>1985-02</td>\n",
       "      <td>0.32</td>\n",
       "    </tr>\n",
       "    <tr>\n",
       "      <th>2</th>\n",
       "      <td>USC00143527</td>\n",
       "      <td>HAYS 1 S, KS US</td>\n",
       "      <td>38.8586</td>\n",
       "      <td>-99.3358</td>\n",
       "      <td>612.6</td>\n",
       "      <td>1985-03</td>\n",
       "      <td>0.74</td>\n",
       "    </tr>\n",
       "    <tr>\n",
       "      <th>3</th>\n",
       "      <td>USC00143527</td>\n",
       "      <td>HAYS 1 S, KS US</td>\n",
       "      <td>38.8586</td>\n",
       "      <td>-99.3358</td>\n",
       "      <td>612.6</td>\n",
       "      <td>1985-04</td>\n",
       "      <td>2.95</td>\n",
       "    </tr>\n",
       "    <tr>\n",
       "      <th>4</th>\n",
       "      <td>USC00143527</td>\n",
       "      <td>HAYS 1 S, KS US</td>\n",
       "      <td>38.8586</td>\n",
       "      <td>-99.3358</td>\n",
       "      <td>612.6</td>\n",
       "      <td>1985-05</td>\n",
       "      <td>3.67</td>\n",
       "    </tr>\n",
       "  </tbody>\n",
       "</table>\n",
       "</div>"
      ],
      "text/plain": [
       "       STATION             NAME  LATITUDE  LONGITUDE  ELEVATION     DATE  PRCP\n",
       "0  USC00143527  HAYS 1 S, KS US   38.8586   -99.3358      612.6  1985-01  0.90\n",
       "1  USC00143527  HAYS 1 S, KS US   38.8586   -99.3358      612.6  1985-02  0.32\n",
       "2  USC00143527  HAYS 1 S, KS US   38.8586   -99.3358      612.6  1985-03  0.74\n",
       "3  USC00143527  HAYS 1 S, KS US   38.8586   -99.3358      612.6  1985-04  2.95\n",
       "4  USC00143527  HAYS 1 S, KS US   38.8586   -99.3358      612.6  1985-05  3.67"
      ]
     },
     "execution_count": 113,
     "metadata": {},
     "output_type": "execute_result"
    }
   ],
   "source": [
    "df.head()"
   ]
  },
  {
   "cell_type": "code",
   "execution_count": 6,
   "id": "37b514d0",
   "metadata": {},
   "outputs": [
    {
     "name": "stdout",
     "output_type": "stream",
     "text": [
      "<class 'pandas.core.frame.DataFrame'>\n",
      "RangeIndex: 2197 entries, 0 to 2196\n",
      "Data columns (total 7 columns):\n",
      " #   Column     Non-Null Count  Dtype  \n",
      "---  ------     --------------  -----  \n",
      " 0   STATION    2197 non-null   object \n",
      " 1   NAME       2197 non-null   object \n",
      " 2   LATITUDE   2197 non-null   float64\n",
      " 3   LONGITUDE  2197 non-null   float64\n",
      " 4   ELEVATION  2197 non-null   float64\n",
      " 5   DATE       2197 non-null   object \n",
      " 6   PRCP       2187 non-null   float64\n",
      "dtypes: float64(4), object(3)\n",
      "memory usage: 120.3+ KB\n"
     ]
    }
   ],
   "source": [
    "df.info()"
   ]
  },
  {
   "cell_type": "code",
   "execution_count": 7,
   "id": "f82e4684",
   "metadata": {},
   "outputs": [
    {
     "data": {
      "text/html": [
       "<div>\n",
       "<style scoped>\n",
       "    .dataframe tbody tr th:only-of-type {\n",
       "        vertical-align: middle;\n",
       "    }\n",
       "\n",
       "    .dataframe tbody tr th {\n",
       "        vertical-align: top;\n",
       "    }\n",
       "\n",
       "    .dataframe thead th {\n",
       "        text-align: right;\n",
       "    }\n",
       "</style>\n",
       "<table border=\"1\" class=\"dataframe\">\n",
       "  <thead>\n",
       "    <tr style=\"text-align: right;\">\n",
       "      <th></th>\n",
       "      <th>STATION</th>\n",
       "      <th>NAME</th>\n",
       "      <th>LATITUDE</th>\n",
       "      <th>LONGITUDE</th>\n",
       "      <th>ELEVATION</th>\n",
       "      <th>DATE</th>\n",
       "      <th>PRCP</th>\n",
       "    </tr>\n",
       "  </thead>\n",
       "  <tbody>\n",
       "    <tr>\n",
       "      <th>0</th>\n",
       "      <td>False</td>\n",
       "      <td>False</td>\n",
       "      <td>False</td>\n",
       "      <td>False</td>\n",
       "      <td>False</td>\n",
       "      <td>False</td>\n",
       "      <td>False</td>\n",
       "    </tr>\n",
       "    <tr>\n",
       "      <th>1</th>\n",
       "      <td>False</td>\n",
       "      <td>False</td>\n",
       "      <td>False</td>\n",
       "      <td>False</td>\n",
       "      <td>False</td>\n",
       "      <td>False</td>\n",
       "      <td>False</td>\n",
       "    </tr>\n",
       "    <tr>\n",
       "      <th>2</th>\n",
       "      <td>False</td>\n",
       "      <td>False</td>\n",
       "      <td>False</td>\n",
       "      <td>False</td>\n",
       "      <td>False</td>\n",
       "      <td>False</td>\n",
       "      <td>False</td>\n",
       "    </tr>\n",
       "    <tr>\n",
       "      <th>3</th>\n",
       "      <td>False</td>\n",
       "      <td>False</td>\n",
       "      <td>False</td>\n",
       "      <td>False</td>\n",
       "      <td>False</td>\n",
       "      <td>False</td>\n",
       "      <td>False</td>\n",
       "    </tr>\n",
       "    <tr>\n",
       "      <th>4</th>\n",
       "      <td>False</td>\n",
       "      <td>False</td>\n",
       "      <td>False</td>\n",
       "      <td>False</td>\n",
       "      <td>False</td>\n",
       "      <td>False</td>\n",
       "      <td>False</td>\n",
       "    </tr>\n",
       "    <tr>\n",
       "      <th>...</th>\n",
       "      <td>...</td>\n",
       "      <td>...</td>\n",
       "      <td>...</td>\n",
       "      <td>...</td>\n",
       "      <td>...</td>\n",
       "      <td>...</td>\n",
       "      <td>...</td>\n",
       "    </tr>\n",
       "    <tr>\n",
       "      <th>2192</th>\n",
       "      <td>False</td>\n",
       "      <td>False</td>\n",
       "      <td>False</td>\n",
       "      <td>False</td>\n",
       "      <td>False</td>\n",
       "      <td>False</td>\n",
       "      <td>False</td>\n",
       "    </tr>\n",
       "    <tr>\n",
       "      <th>2193</th>\n",
       "      <td>False</td>\n",
       "      <td>False</td>\n",
       "      <td>False</td>\n",
       "      <td>False</td>\n",
       "      <td>False</td>\n",
       "      <td>False</td>\n",
       "      <td>False</td>\n",
       "    </tr>\n",
       "    <tr>\n",
       "      <th>2194</th>\n",
       "      <td>False</td>\n",
       "      <td>False</td>\n",
       "      <td>False</td>\n",
       "      <td>False</td>\n",
       "      <td>False</td>\n",
       "      <td>False</td>\n",
       "      <td>False</td>\n",
       "    </tr>\n",
       "    <tr>\n",
       "      <th>2195</th>\n",
       "      <td>False</td>\n",
       "      <td>False</td>\n",
       "      <td>False</td>\n",
       "      <td>False</td>\n",
       "      <td>False</td>\n",
       "      <td>False</td>\n",
       "      <td>False</td>\n",
       "    </tr>\n",
       "    <tr>\n",
       "      <th>2196</th>\n",
       "      <td>False</td>\n",
       "      <td>False</td>\n",
       "      <td>False</td>\n",
       "      <td>False</td>\n",
       "      <td>False</td>\n",
       "      <td>False</td>\n",
       "      <td>False</td>\n",
       "    </tr>\n",
       "  </tbody>\n",
       "</table>\n",
       "<p>2197 rows × 7 columns</p>\n",
       "</div>"
      ],
      "text/plain": [
       "      STATION   NAME  LATITUDE  LONGITUDE  ELEVATION   DATE   PRCP\n",
       "0       False  False     False      False      False  False  False\n",
       "1       False  False     False      False      False  False  False\n",
       "2       False  False     False      False      False  False  False\n",
       "3       False  False     False      False      False  False  False\n",
       "4       False  False     False      False      False  False  False\n",
       "...       ...    ...       ...        ...        ...    ...    ...\n",
       "2192    False  False     False      False      False  False  False\n",
       "2193    False  False     False      False      False  False  False\n",
       "2194    False  False     False      False      False  False  False\n",
       "2195    False  False     False      False      False  False  False\n",
       "2196    False  False     False      False      False  False  False\n",
       "\n",
       "[2197 rows x 7 columns]"
      ]
     },
     "execution_count": 7,
     "metadata": {},
     "output_type": "execute_result"
    }
   ],
   "source": [
    "df.isnull()"
   ]
  },
  {
   "cell_type": "code",
   "execution_count": 8,
   "id": "e8c67c1d",
   "metadata": {},
   "outputs": [
    {
     "data": {
      "text/plain": [
       "STATION       0\n",
       "NAME          0\n",
       "LATITUDE      0\n",
       "LONGITUDE     0\n",
       "ELEVATION     0\n",
       "DATE          0\n",
       "PRCP         10\n",
       "dtype: int64"
      ]
     },
     "execution_count": 8,
     "metadata": {},
     "output_type": "execute_result"
    }
   ],
   "source": [
    "df.isnull().sum()"
   ]
  },
  {
   "cell_type": "markdown",
   "id": "7f115638",
   "metadata": {},
   "source": [
    "## Finding Null Values from the Excel & taking the mean of PRCP Column."
   ]
  },
  {
   "cell_type": "code",
   "execution_count": 9,
   "id": "b96bffbb",
   "metadata": {},
   "outputs": [
    {
     "data": {
      "text/html": [
       "<div>\n",
       "<style scoped>\n",
       "    .dataframe tbody tr th:only-of-type {\n",
       "        vertical-align: middle;\n",
       "    }\n",
       "\n",
       "    .dataframe tbody tr th {\n",
       "        vertical-align: top;\n",
       "    }\n",
       "\n",
       "    .dataframe thead th {\n",
       "        text-align: right;\n",
       "    }\n",
       "</style>\n",
       "<table border=\"1\" class=\"dataframe\">\n",
       "  <thead>\n",
       "    <tr style=\"text-align: right;\">\n",
       "      <th></th>\n",
       "      <th>STATION</th>\n",
       "      <th>NAME</th>\n",
       "      <th>LATITUDE</th>\n",
       "      <th>LONGITUDE</th>\n",
       "      <th>ELEVATION</th>\n",
       "      <th>DATE</th>\n",
       "      <th>PRCP</th>\n",
       "    </tr>\n",
       "  </thead>\n",
       "  <tbody>\n",
       "    <tr>\n",
       "      <th>0</th>\n",
       "      <td>USC00143527</td>\n",
       "      <td>HAYS 1 S, KS US</td>\n",
       "      <td>38.8586</td>\n",
       "      <td>-99.3358</td>\n",
       "      <td>612.6</td>\n",
       "      <td>1985-01</td>\n",
       "      <td>0.90</td>\n",
       "    </tr>\n",
       "    <tr>\n",
       "      <th>1</th>\n",
       "      <td>USC00143527</td>\n",
       "      <td>HAYS 1 S, KS US</td>\n",
       "      <td>38.8586</td>\n",
       "      <td>-99.3358</td>\n",
       "      <td>612.6</td>\n",
       "      <td>1985-02</td>\n",
       "      <td>0.32</td>\n",
       "    </tr>\n",
       "    <tr>\n",
       "      <th>2</th>\n",
       "      <td>USC00143527</td>\n",
       "      <td>HAYS 1 S, KS US</td>\n",
       "      <td>38.8586</td>\n",
       "      <td>-99.3358</td>\n",
       "      <td>612.6</td>\n",
       "      <td>1985-03</td>\n",
       "      <td>0.74</td>\n",
       "    </tr>\n",
       "    <tr>\n",
       "      <th>3</th>\n",
       "      <td>USC00143527</td>\n",
       "      <td>HAYS 1 S, KS US</td>\n",
       "      <td>38.8586</td>\n",
       "      <td>-99.3358</td>\n",
       "      <td>612.6</td>\n",
       "      <td>1985-04</td>\n",
       "      <td>2.95</td>\n",
       "    </tr>\n",
       "    <tr>\n",
       "      <th>4</th>\n",
       "      <td>USC00143527</td>\n",
       "      <td>HAYS 1 S, KS US</td>\n",
       "      <td>38.8586</td>\n",
       "      <td>-99.3358</td>\n",
       "      <td>612.6</td>\n",
       "      <td>1985-05</td>\n",
       "      <td>3.67</td>\n",
       "    </tr>\n",
       "    <tr>\n",
       "      <th>...</th>\n",
       "      <td>...</td>\n",
       "      <td>...</td>\n",
       "      <td>...</td>\n",
       "      <td>...</td>\n",
       "      <td>...</td>\n",
       "      <td>...</td>\n",
       "      <td>...</td>\n",
       "    </tr>\n",
       "    <tr>\n",
       "      <th>2192</th>\n",
       "      <td>USW00013967</td>\n",
       "      <td>OKLAHOMA CITY WILL ROGERS WORLD AIRPORT, OK US</td>\n",
       "      <td>35.3931</td>\n",
       "      <td>-97.6006</td>\n",
       "      <td>1295.0</td>\n",
       "      <td>2022-03</td>\n",
       "      <td>1.97</td>\n",
       "    </tr>\n",
       "    <tr>\n",
       "      <th>2193</th>\n",
       "      <td>USW00013967</td>\n",
       "      <td>OKLAHOMA CITY WILL ROGERS WORLD AIRPORT, OK US</td>\n",
       "      <td>35.3931</td>\n",
       "      <td>-97.6006</td>\n",
       "      <td>1295.0</td>\n",
       "      <td>2022-04</td>\n",
       "      <td>1.59</td>\n",
       "    </tr>\n",
       "    <tr>\n",
       "      <th>2194</th>\n",
       "      <td>USW00013967</td>\n",
       "      <td>OKLAHOMA CITY WILL ROGERS WORLD AIRPORT, OK US</td>\n",
       "      <td>35.3931</td>\n",
       "      <td>-97.6006</td>\n",
       "      <td>1295.0</td>\n",
       "      <td>2022-05</td>\n",
       "      <td>7.35</td>\n",
       "    </tr>\n",
       "    <tr>\n",
       "      <th>2195</th>\n",
       "      <td>USW00013967</td>\n",
       "      <td>OKLAHOMA CITY WILL ROGERS WORLD AIRPORT, OK US</td>\n",
       "      <td>35.3931</td>\n",
       "      <td>-97.6006</td>\n",
       "      <td>1295.0</td>\n",
       "      <td>2022-06</td>\n",
       "      <td>3.31</td>\n",
       "    </tr>\n",
       "    <tr>\n",
       "      <th>2196</th>\n",
       "      <td>USW00013967</td>\n",
       "      <td>OKLAHOMA CITY WILL ROGERS WORLD AIRPORT, OK US</td>\n",
       "      <td>35.3931</td>\n",
       "      <td>-97.6006</td>\n",
       "      <td>1295.0</td>\n",
       "      <td>2022-07</td>\n",
       "      <td>0.42</td>\n",
       "    </tr>\n",
       "  </tbody>\n",
       "</table>\n",
       "<p>2197 rows × 7 columns</p>\n",
       "</div>"
      ],
      "text/plain": [
       "          STATION                                            NAME  LATITUDE  \\\n",
       "0     USC00143527                                 HAYS 1 S, KS US   38.8586   \n",
       "1     USC00143527                                 HAYS 1 S, KS US   38.8586   \n",
       "2     USC00143527                                 HAYS 1 S, KS US   38.8586   \n",
       "3     USC00143527                                 HAYS 1 S, KS US   38.8586   \n",
       "4     USC00143527                                 HAYS 1 S, KS US   38.8586   \n",
       "...           ...                                             ...       ...   \n",
       "2192  USW00013967  OKLAHOMA CITY WILL ROGERS WORLD AIRPORT, OK US   35.3931   \n",
       "2193  USW00013967  OKLAHOMA CITY WILL ROGERS WORLD AIRPORT, OK US   35.3931   \n",
       "2194  USW00013967  OKLAHOMA CITY WILL ROGERS WORLD AIRPORT, OK US   35.3931   \n",
       "2195  USW00013967  OKLAHOMA CITY WILL ROGERS WORLD AIRPORT, OK US   35.3931   \n",
       "2196  USW00013967  OKLAHOMA CITY WILL ROGERS WORLD AIRPORT, OK US   35.3931   \n",
       "\n",
       "      LONGITUDE  ELEVATION     DATE  PRCP  \n",
       "0      -99.3358      612.6  1985-01  0.90  \n",
       "1      -99.3358      612.6  1985-02  0.32  \n",
       "2      -99.3358      612.6  1985-03  0.74  \n",
       "3      -99.3358      612.6  1985-04  2.95  \n",
       "4      -99.3358      612.6  1985-05  3.67  \n",
       "...         ...        ...      ...   ...  \n",
       "2192   -97.6006     1295.0  2022-03  1.97  \n",
       "2193   -97.6006     1295.0  2022-04  1.59  \n",
       "2194   -97.6006     1295.0  2022-05  7.35  \n",
       "2195   -97.6006     1295.0  2022-06  3.31  \n",
       "2196   -97.6006     1295.0  2022-07  0.42  \n",
       "\n",
       "[2197 rows x 7 columns]"
      ]
     },
     "execution_count": 9,
     "metadata": {},
     "output_type": "execute_result"
    }
   ],
   "source": [
    "dfinlandclean = df.fillna(value=df['PRCP'].mean())\n",
    "dfinlandclean"
   ]
  },
  {
   "cell_type": "code",
   "execution_count": 114,
   "id": "555879d5",
   "metadata": {},
   "outputs": [
    {
     "data": {
      "text/html": [
       "<div>\n",
       "<style scoped>\n",
       "    .dataframe tbody tr th:only-of-type {\n",
       "        vertical-align: middle;\n",
       "    }\n",
       "\n",
       "    .dataframe tbody tr th {\n",
       "        vertical-align: top;\n",
       "    }\n",
       "\n",
       "    .dataframe thead th {\n",
       "        text-align: right;\n",
       "    }\n",
       "</style>\n",
       "<table border=\"1\" class=\"dataframe\">\n",
       "  <thead>\n",
       "    <tr style=\"text-align: right;\">\n",
       "      <th></th>\n",
       "      <th>STATION</th>\n",
       "      <th>NAME</th>\n",
       "      <th>LATITUDE</th>\n",
       "      <th>LONGITUDE</th>\n",
       "      <th>ELEVATION</th>\n",
       "      <th>DATE</th>\n",
       "      <th>PRCP</th>\n",
       "    </tr>\n",
       "  </thead>\n",
       "  <tbody>\n",
       "    <tr>\n",
       "      <th>0</th>\n",
       "      <td>False</td>\n",
       "      <td>False</td>\n",
       "      <td>False</td>\n",
       "      <td>False</td>\n",
       "      <td>False</td>\n",
       "      <td>False</td>\n",
       "      <td>False</td>\n",
       "    </tr>\n",
       "    <tr>\n",
       "      <th>1</th>\n",
       "      <td>False</td>\n",
       "      <td>False</td>\n",
       "      <td>False</td>\n",
       "      <td>False</td>\n",
       "      <td>False</td>\n",
       "      <td>False</td>\n",
       "      <td>False</td>\n",
       "    </tr>\n",
       "    <tr>\n",
       "      <th>2</th>\n",
       "      <td>False</td>\n",
       "      <td>False</td>\n",
       "      <td>False</td>\n",
       "      <td>False</td>\n",
       "      <td>False</td>\n",
       "      <td>False</td>\n",
       "      <td>False</td>\n",
       "    </tr>\n",
       "    <tr>\n",
       "      <th>3</th>\n",
       "      <td>False</td>\n",
       "      <td>False</td>\n",
       "      <td>False</td>\n",
       "      <td>False</td>\n",
       "      <td>False</td>\n",
       "      <td>False</td>\n",
       "      <td>False</td>\n",
       "    </tr>\n",
       "    <tr>\n",
       "      <th>4</th>\n",
       "      <td>False</td>\n",
       "      <td>False</td>\n",
       "      <td>False</td>\n",
       "      <td>False</td>\n",
       "      <td>False</td>\n",
       "      <td>False</td>\n",
       "      <td>False</td>\n",
       "    </tr>\n",
       "    <tr>\n",
       "      <th>...</th>\n",
       "      <td>...</td>\n",
       "      <td>...</td>\n",
       "      <td>...</td>\n",
       "      <td>...</td>\n",
       "      <td>...</td>\n",
       "      <td>...</td>\n",
       "      <td>...</td>\n",
       "    </tr>\n",
       "    <tr>\n",
       "      <th>2192</th>\n",
       "      <td>False</td>\n",
       "      <td>False</td>\n",
       "      <td>False</td>\n",
       "      <td>False</td>\n",
       "      <td>False</td>\n",
       "      <td>False</td>\n",
       "      <td>False</td>\n",
       "    </tr>\n",
       "    <tr>\n",
       "      <th>2193</th>\n",
       "      <td>False</td>\n",
       "      <td>False</td>\n",
       "      <td>False</td>\n",
       "      <td>False</td>\n",
       "      <td>False</td>\n",
       "      <td>False</td>\n",
       "      <td>False</td>\n",
       "    </tr>\n",
       "    <tr>\n",
       "      <th>2194</th>\n",
       "      <td>False</td>\n",
       "      <td>False</td>\n",
       "      <td>False</td>\n",
       "      <td>False</td>\n",
       "      <td>False</td>\n",
       "      <td>False</td>\n",
       "      <td>False</td>\n",
       "    </tr>\n",
       "    <tr>\n",
       "      <th>2195</th>\n",
       "      <td>False</td>\n",
       "      <td>False</td>\n",
       "      <td>False</td>\n",
       "      <td>False</td>\n",
       "      <td>False</td>\n",
       "      <td>False</td>\n",
       "      <td>False</td>\n",
       "    </tr>\n",
       "    <tr>\n",
       "      <th>2196</th>\n",
       "      <td>False</td>\n",
       "      <td>False</td>\n",
       "      <td>False</td>\n",
       "      <td>False</td>\n",
       "      <td>False</td>\n",
       "      <td>False</td>\n",
       "      <td>False</td>\n",
       "    </tr>\n",
       "  </tbody>\n",
       "</table>\n",
       "<p>2197 rows × 7 columns</p>\n",
       "</div>"
      ],
      "text/plain": [
       "      STATION   NAME  LATITUDE  LONGITUDE  ELEVATION   DATE   PRCP\n",
       "0       False  False     False      False      False  False  False\n",
       "1       False  False     False      False      False  False  False\n",
       "2       False  False     False      False      False  False  False\n",
       "3       False  False     False      False      False  False  False\n",
       "4       False  False     False      False      False  False  False\n",
       "...       ...    ...       ...        ...        ...    ...    ...\n",
       "2192    False  False     False      False      False  False  False\n",
       "2193    False  False     False      False      False  False  False\n",
       "2194    False  False     False      False      False  False  False\n",
       "2195    False  False     False      False      False  False  False\n",
       "2196    False  False     False      False      False  False  False\n",
       "\n",
       "[2197 rows x 7 columns]"
      ]
     },
     "execution_count": 114,
     "metadata": {},
     "output_type": "execute_result"
    }
   ],
   "source": [
    "dfinlandclean.isnull()"
   ]
  },
  {
   "cell_type": "code",
   "execution_count": 115,
   "id": "d9329302",
   "metadata": {},
   "outputs": [
    {
     "data": {
      "text/plain": [
       "STATION      0\n",
       "NAME         0\n",
       "LATITUDE     0\n",
       "LONGITUDE    0\n",
       "ELEVATION    0\n",
       "DATE         0\n",
       "PRCP         0\n",
       "dtype: int64"
      ]
     },
     "execution_count": 115,
     "metadata": {},
     "output_type": "execute_result"
    }
   ],
   "source": [
    "dfinlandclean.isnull().sum()"
   ]
  },
  {
   "cell_type": "code",
   "execution_count": 116,
   "id": "83cfba8f",
   "metadata": {},
   "outputs": [],
   "source": [
    "dfinlandclean['DATE']=pd.to_datetime(dfinlandclean['DATE'])"
   ]
  },
  {
   "cell_type": "code",
   "execution_count": 16,
   "id": "db3f89f7",
   "metadata": {},
   "outputs": [],
   "source": [
    "### Loading and cleaning data for Coastal Locations "
   ]
  },
  {
   "cell_type": "code",
   "execution_count": 13,
   "id": "507bac3b",
   "metadata": {},
   "outputs": [],
   "source": [
    "df1=pd.read_csv('CostalL_data.csv')"
   ]
  },
  {
   "cell_type": "code",
   "execution_count": 14,
   "id": "75159814",
   "metadata": {},
   "outputs": [
    {
     "data": {
      "text/plain": [
       "<bound method DataFrame.info of           STATION                              NAME     DATE  PRCP\n",
       "0     USW00094789  JFK INTERNATIONAL AIRPORT, NY US  1985-01  1.07\n",
       "1     USW00094789  JFK INTERNATIONAL AIRPORT, NY US  1985-02  2.13\n",
       "2     USW00094789  JFK INTERNATIONAL AIRPORT, NY US  1985-03  2.17\n",
       "3     USW00094789  JFK INTERNATIONAL AIRPORT, NY US  1985-04  2.12\n",
       "4     USW00094789  JFK INTERNATIONAL AIRPORT, NY US  1985-05  4.77\n",
       "...           ...                               ...      ...   ...\n",
       "2241  USW00014739                     BOSTON, MA US  2021-09  7.47\n",
       "2242  USW00014739                     BOSTON, MA US  2021-10  5.11\n",
       "2243  USW00014739                     BOSTON, MA US  2021-11  1.34\n",
       "2244  USW00014739                     BOSTON, MA US  2021-12  2.45\n",
       "2245  USW00014739                     BOSTON, MA US  2022-01  2.33\n",
       "\n",
       "[2246 rows x 4 columns]>"
      ]
     },
     "execution_count": 14,
     "metadata": {},
     "output_type": "execute_result"
    }
   ],
   "source": [
    "df1.info"
   ]
  },
  {
   "cell_type": "code",
   "execution_count": 15,
   "id": "53214f12",
   "metadata": {},
   "outputs": [
    {
     "data": {
      "text/html": [
       "<div>\n",
       "<style scoped>\n",
       "    .dataframe tbody tr th:only-of-type {\n",
       "        vertical-align: middle;\n",
       "    }\n",
       "\n",
       "    .dataframe tbody tr th {\n",
       "        vertical-align: top;\n",
       "    }\n",
       "\n",
       "    .dataframe thead th {\n",
       "        text-align: right;\n",
       "    }\n",
       "</style>\n",
       "<table border=\"1\" class=\"dataframe\">\n",
       "  <thead>\n",
       "    <tr style=\"text-align: right;\">\n",
       "      <th></th>\n",
       "      <th>STATION</th>\n",
       "      <th>NAME</th>\n",
       "      <th>DATE</th>\n",
       "      <th>PRCP</th>\n",
       "    </tr>\n",
       "  </thead>\n",
       "  <tbody>\n",
       "    <tr>\n",
       "      <th>0</th>\n",
       "      <td>USW00094789</td>\n",
       "      <td>JFK INTERNATIONAL AIRPORT, NY US</td>\n",
       "      <td>1985-01</td>\n",
       "      <td>1.07</td>\n",
       "    </tr>\n",
       "    <tr>\n",
       "      <th>1</th>\n",
       "      <td>USW00094789</td>\n",
       "      <td>JFK INTERNATIONAL AIRPORT, NY US</td>\n",
       "      <td>1985-02</td>\n",
       "      <td>2.13</td>\n",
       "    </tr>\n",
       "    <tr>\n",
       "      <th>2</th>\n",
       "      <td>USW00094789</td>\n",
       "      <td>JFK INTERNATIONAL AIRPORT, NY US</td>\n",
       "      <td>1985-03</td>\n",
       "      <td>2.17</td>\n",
       "    </tr>\n",
       "    <tr>\n",
       "      <th>3</th>\n",
       "      <td>USW00094789</td>\n",
       "      <td>JFK INTERNATIONAL AIRPORT, NY US</td>\n",
       "      <td>1985-04</td>\n",
       "      <td>2.12</td>\n",
       "    </tr>\n",
       "    <tr>\n",
       "      <th>4</th>\n",
       "      <td>USW00094789</td>\n",
       "      <td>JFK INTERNATIONAL AIRPORT, NY US</td>\n",
       "      <td>1985-05</td>\n",
       "      <td>4.77</td>\n",
       "    </tr>\n",
       "  </tbody>\n",
       "</table>\n",
       "</div>"
      ],
      "text/plain": [
       "       STATION                              NAME     DATE  PRCP\n",
       "0  USW00094789  JFK INTERNATIONAL AIRPORT, NY US  1985-01  1.07\n",
       "1  USW00094789  JFK INTERNATIONAL AIRPORT, NY US  1985-02  2.13\n",
       "2  USW00094789  JFK INTERNATIONAL AIRPORT, NY US  1985-03  2.17\n",
       "3  USW00094789  JFK INTERNATIONAL AIRPORT, NY US  1985-04  2.12\n",
       "4  USW00094789  JFK INTERNATIONAL AIRPORT, NY US  1985-05  4.77"
      ]
     },
     "execution_count": 15,
     "metadata": {},
     "output_type": "execute_result"
    }
   ],
   "source": [
    "df1.head()"
   ]
  },
  {
   "cell_type": "code",
   "execution_count": 16,
   "id": "6abc4df5",
   "metadata": {},
   "outputs": [
    {
     "data": {
      "text/plain": [
       "array([['USW00094789', 'JFK INTERNATIONAL AIRPORT, NY US', '1985-01',\n",
       "        1.07],\n",
       "       ['USW00094789', 'JFK INTERNATIONAL AIRPORT, NY US', '1985-02',\n",
       "        2.13],\n",
       "       ['USW00094789', 'JFK INTERNATIONAL AIRPORT, NY US', '1985-03',\n",
       "        2.17],\n",
       "       ...,\n",
       "       ['USW00014739', 'BOSTON, MA US', '2021-11', 1.34],\n",
       "       ['USW00014739', 'BOSTON, MA US', '2021-12', 2.45],\n",
       "       ['USW00014739', 'BOSTON, MA US', '2022-01', 2.33]], dtype=object)"
      ]
     },
     "execution_count": 16,
     "metadata": {},
     "output_type": "execute_result"
    }
   ],
   "source": [
    "df1.values"
   ]
  },
  {
   "cell_type": "code",
   "execution_count": 17,
   "id": "80e0542f",
   "metadata": {},
   "outputs": [
    {
     "name": "stdout",
     "output_type": "stream",
     "text": [
      "<class 'pandas.core.frame.DataFrame'>\n",
      "RangeIndex: 2246 entries, 0 to 2245\n",
      "Data columns (total 4 columns):\n",
      " #   Column   Non-Null Count  Dtype  \n",
      "---  ------   --------------  -----  \n",
      " 0   STATION  2246 non-null   object \n",
      " 1   NAME     2246 non-null   object \n",
      " 2   DATE     2246 non-null   object \n",
      " 3   PRCP     2246 non-null   float64\n",
      "dtypes: float64(1), object(3)\n",
      "memory usage: 70.3+ KB\n"
     ]
    }
   ],
   "source": [
    "df1.info()"
   ]
  },
  {
   "cell_type": "code",
   "execution_count": 18,
   "id": "2b079c65",
   "metadata": {},
   "outputs": [
    {
     "data": {
      "text/html": [
       "<div>\n",
       "<style scoped>\n",
       "    .dataframe tbody tr th:only-of-type {\n",
       "        vertical-align: middle;\n",
       "    }\n",
       "\n",
       "    .dataframe tbody tr th {\n",
       "        vertical-align: top;\n",
       "    }\n",
       "\n",
       "    .dataframe thead th {\n",
       "        text-align: right;\n",
       "    }\n",
       "</style>\n",
       "<table border=\"1\" class=\"dataframe\">\n",
       "  <thead>\n",
       "    <tr style=\"text-align: right;\">\n",
       "      <th></th>\n",
       "      <th>STATION</th>\n",
       "      <th>NAME</th>\n",
       "      <th>DATE</th>\n",
       "      <th>PRCP</th>\n",
       "    </tr>\n",
       "  </thead>\n",
       "  <tbody>\n",
       "    <tr>\n",
       "      <th>0</th>\n",
       "      <td>False</td>\n",
       "      <td>False</td>\n",
       "      <td>False</td>\n",
       "      <td>False</td>\n",
       "    </tr>\n",
       "    <tr>\n",
       "      <th>1</th>\n",
       "      <td>False</td>\n",
       "      <td>False</td>\n",
       "      <td>False</td>\n",
       "      <td>False</td>\n",
       "    </tr>\n",
       "    <tr>\n",
       "      <th>2</th>\n",
       "      <td>False</td>\n",
       "      <td>False</td>\n",
       "      <td>False</td>\n",
       "      <td>False</td>\n",
       "    </tr>\n",
       "    <tr>\n",
       "      <th>3</th>\n",
       "      <td>False</td>\n",
       "      <td>False</td>\n",
       "      <td>False</td>\n",
       "      <td>False</td>\n",
       "    </tr>\n",
       "    <tr>\n",
       "      <th>4</th>\n",
       "      <td>False</td>\n",
       "      <td>False</td>\n",
       "      <td>False</td>\n",
       "      <td>False</td>\n",
       "    </tr>\n",
       "    <tr>\n",
       "      <th>...</th>\n",
       "      <td>...</td>\n",
       "      <td>...</td>\n",
       "      <td>...</td>\n",
       "      <td>...</td>\n",
       "    </tr>\n",
       "    <tr>\n",
       "      <th>2241</th>\n",
       "      <td>False</td>\n",
       "      <td>False</td>\n",
       "      <td>False</td>\n",
       "      <td>False</td>\n",
       "    </tr>\n",
       "    <tr>\n",
       "      <th>2242</th>\n",
       "      <td>False</td>\n",
       "      <td>False</td>\n",
       "      <td>False</td>\n",
       "      <td>False</td>\n",
       "    </tr>\n",
       "    <tr>\n",
       "      <th>2243</th>\n",
       "      <td>False</td>\n",
       "      <td>False</td>\n",
       "      <td>False</td>\n",
       "      <td>False</td>\n",
       "    </tr>\n",
       "    <tr>\n",
       "      <th>2244</th>\n",
       "      <td>False</td>\n",
       "      <td>False</td>\n",
       "      <td>False</td>\n",
       "      <td>False</td>\n",
       "    </tr>\n",
       "    <tr>\n",
       "      <th>2245</th>\n",
       "      <td>False</td>\n",
       "      <td>False</td>\n",
       "      <td>False</td>\n",
       "      <td>False</td>\n",
       "    </tr>\n",
       "  </tbody>\n",
       "</table>\n",
       "<p>2246 rows × 4 columns</p>\n",
       "</div>"
      ],
      "text/plain": [
       "      STATION   NAME   DATE   PRCP\n",
       "0       False  False  False  False\n",
       "1       False  False  False  False\n",
       "2       False  False  False  False\n",
       "3       False  False  False  False\n",
       "4       False  False  False  False\n",
       "...       ...    ...    ...    ...\n",
       "2241    False  False  False  False\n",
       "2242    False  False  False  False\n",
       "2243    False  False  False  False\n",
       "2244    False  False  False  False\n",
       "2245    False  False  False  False\n",
       "\n",
       "[2246 rows x 4 columns]"
      ]
     },
     "execution_count": 18,
     "metadata": {},
     "output_type": "execute_result"
    }
   ],
   "source": [
    "df1.isnull()"
   ]
  },
  {
   "cell_type": "code",
   "execution_count": 19,
   "id": "2f9d38e2",
   "metadata": {},
   "outputs": [
    {
     "data": {
      "text/plain": [
       "STATION    0\n",
       "NAME       0\n",
       "DATE       0\n",
       "PRCP       0\n",
       "dtype: int64"
      ]
     },
     "execution_count": 19,
     "metadata": {},
     "output_type": "execute_result"
    }
   ],
   "source": [
    "df1.isnull().sum()"
   ]
  },
  {
   "cell_type": "code",
   "execution_count": 92,
   "id": "fd0d0cc1",
   "metadata": {},
   "outputs": [],
   "source": [
    "df1['DATE']=pd.to_datetime(df1['DATE'])"
   ]
  },
  {
   "cell_type": "markdown",
   "id": "3ea963b1",
   "metadata": {},
   "source": [
    "### Running Tests on the Data frames "
   ]
  },
  {
   "cell_type": "code",
   "execution_count": 21,
   "id": "bd37627b",
   "metadata": {},
   "outputs": [],
   "source": [
    "import statsmodels"
   ]
  },
  {
   "cell_type": "code",
   "execution_count": 22,
   "id": "daa1eee4",
   "metadata": {},
   "outputs": [],
   "source": [
    "import statsmodels.graphics.tsaplots"
   ]
  },
  {
   "cell_type": "code",
   "execution_count": 23,
   "id": "7e5eeec9",
   "metadata": {},
   "outputs": [],
   "source": [
    "import statsmodels.stats.weightstats"
   ]
  },
  {
   "cell_type": "markdown",
   "id": "31b9b8de",
   "metadata": {},
   "source": [
    "### Z Test "
   ]
  },
  {
   "cell_type": "code",
   "execution_count": 24,
   "id": "7bbc3efc",
   "metadata": {},
   "outputs": [
    {
     "data": {
      "text/plain": [
       "(-20.110442578076608, 5.978800408955719e-90)"
      ]
     },
     "execution_count": 24,
     "metadata": {},
     "output_type": "execute_result"
    }
   ],
   "source": [
    "statsmodels.stats.weightstats.ztest(dfinlandclean['PRCP'], df1['PRCP'])"
   ]
  },
  {
   "cell_type": "code",
   "execution_count": 26,
   "id": "3bbc6ddc",
   "metadata": {},
   "outputs": [
    {
     "data": {
      "text/plain": [
       "(-20.110442578076608, 5.978800408955719e-90)"
      ]
     },
     "execution_count": 26,
     "metadata": {},
     "output_type": "execute_result"
    }
   ],
   "source": [
    "statsmodels.stats.weightstats.ztest(dfinlandclean['PRCP'], df1['PRCP'] , value = 0)"
   ]
  },
  {
   "cell_type": "markdown",
   "id": "f5ef72fc",
   "metadata": {},
   "source": [
    "### Independent T Test"
   ]
  },
  {
   "cell_type": "code",
   "execution_count": 25,
   "id": "15de93e3",
   "metadata": {},
   "outputs": [
    {
     "data": {
      "text/plain": [
       "(-20.110442578076604, 3.6898132409577675e-86, 4441.0)"
      ]
     },
     "execution_count": 25,
     "metadata": {},
     "output_type": "execute_result"
    }
   ],
   "source": [
    "statsmodels.stats.weightstats.ttest_ind(dfinlandclean['PRCP'], df1['PRCP'])"
   ]
  },
  {
   "cell_type": "code",
   "execution_count": 73,
   "id": "4cc330b8",
   "metadata": {},
   "outputs": [],
   "source": [
    "dfinlandclean.to_csv('Inland.csv')"
   ]
  },
  {
   "cell_type": "code",
   "execution_count": 74,
   "id": "bfa4b81d",
   "metadata": {},
   "outputs": [],
   "source": [
    "df1.to_csv('Coastal.csv')"
   ]
  },
  {
   "cell_type": "markdown",
   "id": "09ee56f5",
   "metadata": {},
   "source": [
    "### Display Inland Location Data Distribution \n"
   ]
  },
  {
   "cell_type": "code",
   "execution_count": 28,
   "id": "01f41f06",
   "metadata": {},
   "outputs": [
    {
     "name": "stderr",
     "output_type": "stream",
     "text": [
      "C:\\Users\\lokes\\anaconda3\\lib\\site-packages\\seaborn\\distributions.py:2619: FutureWarning: `distplot` is a deprecated function and will be removed in a future version. Please adapt your code to use either `displot` (a figure-level function with similar flexibility) or `histplot` (an axes-level function for histograms).\n",
      "  warnings.warn(msg, FutureWarning)\n"
     ]
    },
    {
     "data": {
      "image/png": "[encoded data removed]",
      "text/plain": [
       "<Figure size 432x288 with 1 Axes>"
      ]
     },
     "metadata": {
      "needs_background": "light"
     },
     "output_type": "display_data"
    }
   ],
   "source": [
    "\n",
    "sns.distplot(dfinlandclean['PRCP'])\n",
    "plt.show()"
   ]
  },
  {
   "cell_type": "markdown",
   "id": "406a9851",
   "metadata": {},
   "source": [
    "### Display Coastal Locations Data Distribution\n"
   ]
  },
  {
   "cell_type": "code",
   "execution_count": 29,
   "id": "118e3a4f",
   "metadata": {},
   "outputs": [
    {
     "name": "stderr",
     "output_type": "stream",
     "text": [
      "C:\\Users\\lokes\\anaconda3\\lib\\site-packages\\seaborn\\distributions.py:2619: FutureWarning: `distplot` is a deprecated function and will be removed in a future version. Please adapt your code to use either `displot` (a figure-level function with similar flexibility) or `histplot` (an axes-level function for histograms).\n",
      "  warnings.warn(msg, FutureWarning)\n"
     ]
    },
    {
     "data": {
      "image/png": "[encoded data removed]",
      "text/plain": [
       "<Figure size 432x288 with 1 Axes>"
      ]
     },
     "metadata": {
      "needs_background": "light"
     },
     "output_type": "display_data"
    }
   ],
   "source": [
    "\n",
    "sns.distplot(df1['PRCP'])\n",
    "plt.show()"
   ]
  },
  {
   "cell_type": "code",
   "execution_count": 117,
   "id": "0a9ff3b4",
   "metadata": {},
   "outputs": [
    {
     "data": {
      "image/png": "[encoded data removed]",
      "text/plain": [
       "<Figure size 720x480 with 2 Axes>"
      ]
     },
     "metadata": {
      "needs_background": "light"
     },
     "output_type": "display_data"
    }
   ],
   "source": [
    "fig1, axes=plt.subplots(nrows=2, ncols=1, figsize=(12,8))\n",
    "fig1.set_dpi(60)\n",
    "axes[0].plot(dfUtahc.DATE, dfUtahc.PRCP, color='red')\n",
    "axes[0].plot(dfColorado.DATE, dfColorado.PRCP, color='blue')\n",
    "axes[0].plot(dfOklahoma.DATE, dfOklahoma.PRCP, color='green')\n",
    "axes[0].plot(dfKansasc.DATE, dfKansasc.PRCP, color='yellow') \n",
    "axes[0].plot(dfNorthDakota.DATE, dfNorthDakota.PRCP, color='pink')\n",
    "axes[0].set_ylabel(\"Inland Locations \\n Precipitation (mm)\", fontsize=12) \n",
    "axes[0].set_xlabel(\"date\", fontsize=12)\n",
    "axes[1].plot(dfNewYork.DATE, dfNewYork.PRCP, color='red')\n",
    "axes[1].plot(dfCorpus.DATE, dfCorpus.PRCP, color='blue')\n",
    "axes[1].plot(dfSeattle.DATE, dfSeattle.PRCP, color='green')\n",
    "axes[1].plot(dfPortland.DATE, dfPortland.PRCP, color='yellow') \n",
    "axes[1].plot(dfBoston.DATE, dfBoston.PRCP, color='pink')\n",
    "axes[1].set_ylabel(\"Monthly Mean \\n Precipitation (mm)\", fontsize=12) \n",
    "axes[1].set_xlabel(\"date\", fontsize=12)\n",
    "\n",
    "plt.tight_layout()"
   ]
  },
  {
   "cell_type": "markdown",
   "id": "8594d61a",
   "metadata": {},
   "source": [
    "### Getting the Standard Deviation of the Coastal & Inland Locations."
   ]
  },
  {
   "cell_type": "code",
   "execution_count": 80,
   "id": "f80f2621",
   "metadata": {},
   "outputs": [
    {
     "data": {
      "text/plain": [
       "1.9178035090178978"
      ]
     },
     "execution_count": 80,
     "metadata": {},
     "output_type": "execute_result"
    }
   ],
   "source": [
    "dfinlandclean['PRCP'].std()"
   ]
  },
  {
   "cell_type": "code",
   "execution_count": 86,
   "id": "21c9ac7d",
   "metadata": {},
   "outputs": [
    {
     "data": {
      "text/plain": [
       "1.9221850626134342"
      ]
     },
     "execution_count": 86,
     "metadata": {},
     "output_type": "execute_result"
    }
   ],
   "source": [
    "df['PRCP'].std()"
   ]
  },
  {
   "cell_type": "code",
   "execution_count": 124,
   "id": "1b41de85",
   "metadata": {},
   "outputs": [
    {
     "data": {
      "text/plain": [
       "<AxesSubplot:ylabel='PRCP'>"
      ]
     },
     "execution_count": 124,
     "metadata": {},
     "output_type": "execute_result"
    },
    {
     "data": {
      "image/png": "[encoded data removed]",
      "text/plain": [
       "<Figure size 432x288 with 1 Axes>"
      ]
     },
     "metadata": {
      "needs_background": "light"
     },
     "output_type": "display_data"
    }
   ],
   "source": [
    "sns.violinplot(y=dfinlandclean[\"PRCP\"])\n"
   ]
  },
  {
   "cell_type": "code",
   "execution_count": 119,
   "id": "5db6d2d6",
   "metadata": {},
   "outputs": [
    {
     "data": {
      "text/plain": [
       "<AxesSubplot:ylabel='PRCP'>"
      ]
     },
     "execution_count": 119,
     "metadata": {},
     "output_type": "execute_result"
    },
    {
     "data": {
      "image/png": "[encoded data removed]",
      "text/plain": [
       "<Figure size 432x288 with 1 Axes>"
      ]
     },
     "metadata": {
      "needs_background": "light"
     },
     "output_type": "display_data"
    }
   ],
   "source": [
    "sns.violinplot(y=df1[\"PRCP\"])"
   ]
  },
  {
   "cell_type": "code",
   "execution_count": null,
   "id": "d4fbeaa2",
   "metadata": {},
   "outputs": [],
   "source": []
  }
 ],
 "metadata": {
  "kernelspec": {
   "display_name": "Python 3 (ipykernel)",
   "language": "python",
   "name": "python3"
  },
  "language_info": {
   "codemirror_mode": {
    "name": "ipython",
    "version": 3
   },
   "file_extension": ".py",
   "mimetype": "text/x-python",
   "name": "python",
   "nbconvert_exporter": "python",
   "pygments_lexer": "ipython3",
   "version": "3.9.12"
  }
 },
 "nbformat": 4,
 "nbformat_minor": 5
}
